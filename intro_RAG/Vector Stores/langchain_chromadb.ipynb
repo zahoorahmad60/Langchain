{
 "cells": [
  {
   "cell_type": "code",
   "execution_count": null,
   "id": "4526e3be",
   "metadata": {},
   "outputs": [],
   "source": []
  }
 ],
 "metadata": {
  "kernelspec": {
   "display_name": "venv",
   "language": "python",
   "name": "python3"
  },
  "language_info": {
   "name": "python",
   "version": "3.13.3"
  }
 },
 "nbformat": 4,
 "nbformat_minor": 5
}
